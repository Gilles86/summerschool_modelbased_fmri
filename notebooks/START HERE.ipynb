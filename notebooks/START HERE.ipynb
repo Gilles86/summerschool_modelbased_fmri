{
 "cells": [
  {
   "cell_type": "markdown",
   "metadata": {},
   "source": [
    "# IPython Notebook for model-based neuroscience workshop"
   ]
  },
  {
   "cell_type": "markdown",
   "metadata": {},
   "source": [
    "Welcome,\n",
    "\n",
    "Here is a list of tutorials that you can try out.\n",
    "\n",
    "First of all: my own model-based neuropscience tutorial:\n",
    " * [Model based neuroscience](model_based_neuroscience)\n",
    "      * Gives examples with multiple Python packages that are releavnt to model-based neuroscience\n",
    "      \n",
    "Other (easier) tutorials\n",
    " * [Python for cognitive neuroscientists](http://memory.osu.edu/classes/python/lessons/lsn00.html)\n",
    " * [Codeacademy Python](https://www.codecademy.com/learn/python)\n",
    "   * Introduction to Python\n",
    " * [Nipype Beginner's Guide](http://miykael.github.io/nipype-beginner-s-guide/)\n",
    "   * Introduction to NiPype (neuroimaging pipelines in Python)\n",
    " * [Pandas tutoria](http://pandas.pydata.org/pandas-docs/version/0.18.1/tutorials.html)\n",
    "   * Introduction to Pandas Dataframes\n",
    " * [HDDM](http://ski.clps.brown.edu/hddm_docs/tutorial_python.html)\n",
    " "
   ]
  },
  {
   "cell_type": "code",
   "execution_count": null,
   "metadata": {
    "collapsed": true
   },
   "outputs": [],
   "source": []
  }
 ],
 "metadata": {
  "kernelspec": {
   "display_name": "Python 2",
   "language": "python",
   "name": "python2"
  },
  "language_info": {
   "codemirror_mode": {
    "name": "ipython",
    "version": 2
   },
   "file_extension": ".py",
   "mimetype": "text/x-python",
   "name": "python",
   "nbconvert_exporter": "python",
   "pygments_lexer": "ipython2",
   "version": "2.7.11"
  }
 },
 "nbformat": 4,
 "nbformat_minor": 0
}
