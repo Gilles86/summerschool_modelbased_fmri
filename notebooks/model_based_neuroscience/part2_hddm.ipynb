{
 "cells": [
  {
   "cell_type": "markdown",
   "metadata": {},
   "source": [
    "# Analyzing behavioral data and fitting a hierarhical DDM in Python"
   ]
  },
  {
   "cell_type": "code",
   "execution_count": 1,
   "metadata": {
    "collapsed": false
   },
   "outputs": [
    {
     "name": "stderr",
     "output_type": "stream",
     "text": [
      "/usr/local/lib/python2.7/dist-packages/matplotlib/font_manager.py:273: UserWarning: Matplotlib is building the font cache using fc-list. This may take a moment.\n",
      "  warnings.warn('Matplotlib is building the font cache using fc-list. This may take a moment.')\n"
     ]
    }
   ],
   "source": [
    "# pandas is 'R' for Python: it offers convenient dataframes with split-apply-combine-functionality, etc.\n",
    "import pandas\n",
    "\n",
    "# seaborn is a plotting library\n",
    "import seaborn as sns\n",
    "\n",
    "import matplotlib.pyplot as plt\n",
    "\n",
    "# Use numpy\n",
    "import numpy as np"
   ]
  },
  {
   "cell_type": "code",
   "execution_count": 2,
   "metadata": {
    "collapsed": true
   },
   "outputs": [],
   "source": [
    "# plot inline\n",
    "%matplotlib inline"
   ]
  },
  {
   "cell_type": "markdown",
   "metadata": {},
   "source": [
    "Now we load the behavioral dataframe with pandas"
   ]
  },
  {
   "cell_type": "code",
   "execution_count": 3,
   "metadata": {
    "collapsed": false
   },
   "outputs": [],
   "source": [
    "df = pandas.read_pickle('/data/behavior.pandas')"
   ]
  },
  {
   "cell_type": "markdown",
   "metadata": {},
   "source": [
    "[Pandas](http://pandas.pydata.org/pandas-docs/stable/10min.html) is a library for Python that aids in statitical analysis.\n",
    "\n",
    "Have a short look at this [tutorial](http://pandas.pydata.org/pandas-docs/stable/10min.html)."
   ]
  },
  {
   "cell_type": "markdown",
   "metadata": {},
   "source": [
    "1) Now use the .head()-method. What kind of data do you see?"
   ]
  },
  {
   "cell_type": "code",
   "execution_count": null,
   "metadata": {
    "collapsed": true
   },
   "outputs": [],
   "source": []
  },
  {
   "cell_type": "markdown",
   "metadata": {},
   "source": [
    "2) Use the groupby()-method to find mean values for the different conditions. What do you find?"
   ]
  },
  {
   "cell_type": "code",
   "execution_count": null,
   "metadata": {
    "collapsed": true
   },
   "outputs": [],
   "source": []
  },
  {
   "cell_type": "markdown",
   "metadata": {},
   "source": [
    "factorplot is a very nice tool to plot mean values over different conditions. It also provides 95% bootstrapped error-bars. Therefore it's important that you provide the factor that corresponds to independent observations (in this (and most) case(s) the subject: subj_idx)"
   ]
  },
  {
   "cell_type": "code",
   "execution_count": null,
   "metadata": {
    "collapsed": true
   },
   "outputs": [],
   "source": [
    "sns.factorplot('cond', 'rt', data=df, units='subj_idx', kind='point')"
   ]
  },
  {
   "cell_type": "markdown",
   "metadata": {},
   "source": [
    "Can you make the same plot for correct/incorrect?"
   ]
  },
  {
   "cell_type": "code",
   "execution_count": null,
   "metadata": {
    "collapsed": true
   },
   "outputs": [],
   "source": [
    "sns.factorplot(..."
   ]
  },
  {
   "cell_type": "markdown",
   "metadata": {},
   "source": [
    "2) To also use 'correct' as a factor, we have to map it to a string. Can you spot what this code does?"
   ]
  },
  {
   "cell_type": "code",
   "execution_count": 29,
   "metadata": {
    "collapsed": false
   },
   "outputs": [],
   "source": [
    "df['correct_str'] = df.correct.map({1:'correct', 0:'incorrect'})"
   ]
  },
  {
   "cell_type": "markdown",
   "metadata": {},
   "source": [
    "3) Now plot RTs using factorplot, splitting on condition using the x-value (like before), and on correct/incorrect using the hue-variable."
   ]
  },
  {
   "cell_type": "code",
   "execution_count": null,
   "metadata": {
    "collapsed": true
   },
   "outputs": [],
   "source": []
  },
  {
   "cell_type": "markdown",
   "metadata": {},
   "source": [
    "4) Especially the apply-fucntion is very powerful. What am I doing here?"
   ]
  },
  {
   "cell_type": "code",
   "execution_count": 88,
   "metadata": {
    "collapsed": true
   },
   "outputs": [],
   "source": [
    "def return_quantiles(d):\n",
    "    ps = [10, 30, 50, 70, 90]\n",
    "    qs =  np.percentile(d, ps)\n",
    "    tmp  = pandas.DataFrame()\n",
    "    tmp['p'] = ps\n",
    "    tmp['q'] = qs\n",
    "    return tmp"
   ]
  },
  {
   "cell_type": "code",
   "execution_count": null,
   "metadata": {
    "collapsed": true
   },
   "outputs": [],
   "source": [
    "dg = df.groupby(['subj_idx', 'cond', 'correct']).rt.apply(return_quantiles).reset_index()\n",
    "dg.head()"
   ]
  },
  {
   "cell_type": "code",
   "execution_count": null,
   "metadata": {
    "collapsed": true
   },
   "outputs": [],
   "source": [
    "g = sns.FacetGrid(dg, row=\"subj_idx\", hue=\"correct\", col='cond', palette=['red','green'], sharex=False)\n",
    "g.map(plt.plot, \"q\", \"p\", lw=2, marker='o')\n",
    "g.add_legend();\n",
    "plt.ylim(0, 100)"
   ]
  },
  {
   "cell_type": "markdown",
   "metadata": {},
   "source": [
    "6) What kind of patterns do you observe?"
   ]
  },
  {
   "cell_type": "markdown",
   "metadata": {},
   "source": [
    "Try to use [Facetgrid](http://stanford.edu/~mwaskom/software/seaborn/tutorial/axis_grids.html) and [sns.distplot](http://stanford.edu/~mwaskom/software/seaborn/tutorial/plotting_distributions.html#combining-plot-styles-distplot) to make plots of reaction time distributions, one panel for every subject, one color for every condition. "
   ]
  },
  {
   "cell_type": "code",
   "execution_count": null,
   "metadata": {
    "collapsed": true
   },
   "outputs": [],
   "source": [
    "g = sns.FacetGrid(df, col=\"subj_idx\", ...)\n",
    "g.map(...)"
   ]
  },
  {
   "cell_type": "markdown",
   "metadata": {},
   "source": [
    "## HDDM"
   ]
  },
  {
   "cell_type": "markdown",
   "metadata": {},
   "source": [
    "Now we are going to fit a very simple drift diffusion model. Have a look at this example code.\n",
    "\n",
    "<code>m_stim = hddm.HDDM(data, depends_on={'v': 'stim'})\n",
    "m_stim.find_starting_values()\n",
    "m_stim.sample(2500, burn=1000)</code>\n",
    "\n",
    "Try to do something similar but don't let drift rate vary over stimulus conditions, but let the threshold parameter $a$ vary over the speed-accuracy conditions (cond)\n",
    "\n",
    "First make sure that:\n",
    "\n",
    "* You have a column 'rt' with reaction time in _seconds_\n",
    "* You have a column 'response' which indicates whether the response was correct or incorrect"
   ]
  },
  {
   "cell_type": "code",
   "execution_count": 107,
   "metadata": {
    "collapsed": false
   },
   "outputs": [],
   "source": [
    "import hddm"
   ]
  },
  {
   "cell_type": "code",
   "execution_count": null,
   "metadata": {
    "collapsed": true
   },
   "outputs": [],
   "source": [
    "model = hddm.HDDM(\n",
    "    ..."
   ]
  },
  {
   "cell_type": "markdown",
   "metadata": {},
   "source": [
    "7) Now you can print the stats with model.print_stats(). What do you observe?"
   ]
  },
  {
   "cell_type": "code",
   "execution_count": null,
   "metadata": {
    "collapsed": true
   },
   "outputs": [],
   "source": []
  },
  {
   "cell_type": "markdown",
   "metadata": {},
   "source": [
    "You can also acces the posteriors of the group-level parameters using the nodes_db:"
   ]
  },
  {
   "cell_type": "code",
   "execution_count": 37,
   "metadata": {
    "collapsed": true
   },
   "outputs": [],
   "source": [
    "v_trace = model.nodes_db.ix['v'].node.trace[:]"
   ]
  },
  {
   "cell_type": "markdown",
   "metadata": {},
   "source": [
    "8) Plot this distribution of posteriors using distplot"
   ]
  },
  {
   "cell_type": "code",
   "execution_count": null,
   "metadata": {
    "collapsed": true
   },
   "outputs": [],
   "source": []
  },
  {
   "cell_type": "markdown",
   "metadata": {},
   "source": [
    "9) Can you use similar code to acces the traces for the threshold-parameter $a$ belonging to the different conditions? Plot the distributions in the same figure. What do you see?"
   ]
  },
  {
   "cell_type": "code",
   "execution_count": null,
   "metadata": {
    "collapsed": true
   },
   "outputs": [],
   "source": []
  },
  {
   "cell_type": "markdown",
   "metadata": {},
   "source": [
    "Save the results using"
   ]
  },
  {
   "cell_type": "code",
   "execution_count": null,
   "metadata": {
    "collapsed": true
   },
   "outputs": [],
   "source": [
    "results = pandas.DataFrame(model.values.items(), columns=['parameter', 'value'])\n",
    "results.save('/data/results_hddm.pandas')"
   ]
  },
  {
   "cell_type": "markdown",
   "metadata": {},
   "source": [
    "Nice. Is the preprocessing already done? Let's go to [part 3](http://54.74.144.112:8889/notebooks/part3_registration.ipynb)"
   ]
  }
 ],
 "metadata": {
  "kernelspec": {
   "display_name": "Python 2",
   "language": "python",
   "name": "python2"
  },
  "language_info": {
   "codemirror_mode": {
    "name": "ipython",
    "version": 2
   },
   "file_extension": ".py",
   "mimetype": "text/x-python",
   "name": "python",
   "nbconvert_exporter": "python",
   "pygments_lexer": "ipython2",
   "version": "2.7.11"
  }
 },
 "nbformat": 4,
 "nbformat_minor": 0
}
