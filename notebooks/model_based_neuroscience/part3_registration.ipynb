{
 "cells": [
  {
   "cell_type": "markdown",
   "metadata": {},
   "source": [
    "# 3. Registration"
   ]
  },
  {
   "cell_type": "markdown",
   "metadata": {},
   "source": [
    "In this practical we will register the functional scans to the structural scan, as well as the structural scan to the 'standard' MNI152 space.\n",
    "\n",
    "In this way, we can use masks in this standard space to extract the fMRI signal from areas we are interested in."
   ]
  },
  {
   "cell_type": "code",
   "execution_count": 2,
   "metadata": {
    "collapsed": true
   },
   "outputs": [],
   "source": [
    "#Import libraries..."
   ]
  },
  {
   "cell_type": "code",
   "execution_count": 1,
   "metadata": {
    "collapsed": false
   },
   "outputs": [],
   "source": [
    "import nipype\n",
    "import nibabel as nb\n",
    "import numpy as np\n",
    "import matplotlib.pyplot as plt\n",
    "import seaborn as sns\n",
    "\n",
    "%matplotlib inline"
   ]
  },
  {
   "cell_type": "code",
   "execution_count": 3,
   "metadata": {
    "collapsed": true
   },
   "outputs": [],
   "source": [
    "# import stuff for nipype\n",
    "\n",
    "# Standard registration workflow\n",
    "from nipype.workflows.fmri.fsl import create_reg_workflow\n",
    "\n",
    "# FSL interfaces\n",
    "import nipype.interfaces.fsl as fsl\n",
    "\n",
    "# Pipeline engine\n",
    "import nipype.pipeline.engine as pe\n",
    "\n",
    "# Input/output interfaces\n",
    "import nipype.interfaces.io as nio"
   ]
  },
  {
   "cell_type": "markdown",
   "metadata": {},
   "source": [
    "First we create the registration workflow"
   ]
  },
  {
   "cell_type": "code",
   "execution_count": 17,
   "metadata": {
    "collapsed": true
   },
   "outputs": [],
   "source": [
    "registration = create_reg_workflow()\n",
    "registration.base_dir = '/data/workflow_folders/'"
   ]
  },
  {
   "cell_type": "markdown",
   "metadata": {},
   "source": [
    "We set up the target image: we want to go to the standard MNI152 space. FSL provides these templates."
   ]
  },
  {
   "cell_type": "code",
   "execution_count": 18,
   "metadata": {
    "collapsed": true
   },
   "outputs": [],
   "source": [
    "registration.inputs.inputspec.target_image = fsl.Info.standard_image('MNI152_T1_2mm.nii.gz')\n",
    "registration.inputs.inputspec.target_image_brain = fsl.Info.standard_image('MNI152_T1_2mm_brain.nii.gz')\n",
    "registration.inputs.inputspec.config_file = 'T1_2_MNI152_2mm'"
   ]
  },
  {
   "cell_type": "markdown",
   "metadata": {},
   "source": [
    "1) Fill in the selector templates (hint: use the 'tab'-key to navigate around a bit. You can also use !ls. Use asteriks (\\*), to make sure you select all runs for a specific subject)."
   ]
  },
  {
   "cell_type": "code",
   "execution_count": 19,
   "metadata": {
    "collapsed": true
   },
   "outputs": [],
   "source": [
    "templates = {'mean_func':'/data/preprocessed_data/ ...',\n",
    "            'struct':'/data/struct/ ...',\n",
    "            'func':'/data/preprocessed_data/highpassed_files/...'}"
   ]
  },
  {
   "cell_type": "markdown",
   "metadata": {},
   "source": [
    "2) Fill in the first 5 subjects (advanced: use [glob](https://docs.python.org/2/library/glob.html) and [regular expressions](https://docs.python.org/2/library/re.html) to do this automatically)"
   ]
  },
  {
   "cell_type": "code",
   "execution_count": null,
   "metadata": {
    "collapsed": true
   },
   "outputs": [],
   "source": [
    "subject_ids = []"
   ]
  },
  {
   "cell_type": "code",
   "execution_count": 21,
   "metadata": {
    "collapsed": false
   },
   "outputs": [],
   "source": [
    "selector = pe.Node(nio.SelectFiles(templates), name='selector')\n",
    "\n",
    "selector.iterables = [('subject_id', subject_ids)]"
   ]
  },
  {
   "cell_type": "markdown",
   "metadata": {},
   "source": [
    "Now we connect the outputs of the selector to the default registration workflow."
   ]
  },
  {
   "cell_type": "code",
   "execution_count": 22,
   "metadata": {
    "collapsed": false
   },
   "outputs": [],
   "source": [
    "registration.connect(selector, 'mean_func', registration.get_node('inputspec'), 'mean_image')\n",
    "registration.connect(selector, 'struct', registration.get_node('inputspec'), 'anatomical_image')\n",
    "registration.connect(selector, 'func', registration.get_node('inputspec'), 'source_files')\n",
    "\n",
    "registration.get_node('stripper').inputs\n",
    "\n",
    "ds = pe.Node(nio.DataSink(), name='datasink')\n",
    "ds.inputs.base_directory = '/data/registration_results'"
   ]
  },
  {
   "cell_type": "markdown",
   "metadata": {},
   "source": [
    "The workflow 'extracts' the brain from the structural image by default. We already did this, so we tweak the code a bit, so this 'stripper' will leave the data untouched."
   ]
  },
  {
   "cell_type": "code",
   "execution_count": 23,
   "metadata": {
    "collapsed": false
   },
   "outputs": [],
   "source": [
    "registration.get_node('stripper').inputs.frac = 0.0"
   ]
  },
  {
   "cell_type": "markdown",
   "metadata": {},
   "source": [
    "3) What happens here?"
   ]
  },
  {
   "cell_type": "code",
   "execution_count": 24,
   "metadata": {
    "collapsed": false
   },
   "outputs": [],
   "source": [
    "for k in registration.outputs.outputspec.get():\n",
    "    registration.connect(registration.get_node('outputspec'), k, ds, '%s' % k)"
   ]
  },
  {
   "cell_type": "markdown",
   "metadata": {},
   "source": [
    "Run the workflow"
   ]
  },
  {
   "cell_type": "code",
   "execution_count": null,
   "metadata": {
    "collapsed": true
   },
   "outputs": [],
   "source": [
    "registration.run(plugin='MultiProc', plugin_args={'n_procs' : 3})"
   ]
  },
  {
   "cell_type": "markdown",
   "metadata": {},
   "source": [
    "### Check registration results"
   ]
  },
  {
   "cell_type": "markdown",
   "metadata": {},
   "source": [
    "We can use the scripting capabilities of Python to make a quick overview of how well the registrations worked out."
   ]
  },
  {
   "cell_type": "markdown",
   "metadata": {},
   "source": [
    "Use glob to find all the registered mean functional images."
   ]
  },
  {
   "cell_type": "code",
   "execution_count": 26,
   "metadata": {
    "collapsed": true
   },
   "outputs": [],
   "source": [
    "import glob"
   ]
  },
  {
   "cell_type": "code",
   "execution_count": 28,
   "metadata": {
    "collapsed": false
   },
   "outputs": [],
   "source": [
    "fns = glob.glob('/data/registration_results/transformed_mean/_subject_id_*/*.nii.gz')"
   ]
  },
  {
   "cell_type": "markdown",
   "metadata": {},
   "source": [
    "4) Print all the filenames that glob found..."
   ]
  },
  {
   "cell_type": "code",
   "execution_count": null,
   "metadata": {
    "collapsed": true
   },
   "outputs": [],
   "source": []
  },
  {
   "cell_type": "markdown",
   "metadata": {},
   "source": [
    "## Plot results"
   ]
  },
  {
   "cell_type": "markdown",
   "metadata": {},
   "source": [
    "5) What does this code do?"
   ]
  },
  {
   "cell_type": "code",
   "execution_count": 31,
   "metadata": {
    "collapsed": false
   },
   "outputs": [],
   "source": [
    "mni = nb.load(fsl.Info.standard_image('MNI152_T1_2mm_brain.nii.gz')).get_data()\n"
   ]
  },
  {
   "cell_type": "code",
   "execution_count": null,
   "metadata": {
    "collapsed": true
   },
   "outputs": [],
   "source": [
    "plt.figure(figsize=(24, 10))\n",
    "\n",
    "for i, fn in enumerate(fns):\n",
    "    im = nb.load(fn)\n",
    "    d = np.ma.masked_less(im.get_data(), 1500)\n",
    "    plt.subplot(4, 5, i+1)\n",
    "    plt.imshow(mni[46, :, :].T, origin='lower', cmap=plt.cm.gray)\n",
    "    plt.imshow(d[46, :, :].T, origin='lower', cmap=plt.cm.hot)\n",
    "    plt.axis('off')\n",
    "    \n",
    "plt.subplot(4, 5, i+2)\n",
    "plt.imshow(mni[46, :, :].T, origin='lower', cmap=plt.cm.gray)\n",
    "plt.axis('off')"
   ]
  },
  {
   "cell_type": "code",
   "execution_count": null,
   "metadata": {
    "collapsed": true
   },
   "outputs": [],
   "source": [
    "plt.figure(figsize=(24, 10))\n",
    "\n",
    "for i, fn in enumerate(fns):\n",
    "    im = nb.load(fn)\n",
    "    d = np.ma.masked_less(im.get_data(), 1500)\n",
    "    plt.subplot(4, 5, i+1)\n",
    "    plt.imshow(mni[25, :, :].T, origin='lower', cmap=plt.cm.gray)\n",
    "    plt.imshow(d[25, :, :].T, origin='lower', cmap=plt.cm.hot)\n",
    "    plt.axis('off')\n",
    "    \n",
    "plt.subplot(4, 5, i+2)\n",
    "plt.imshow(mni[25, :, :].T, origin='lower', cmap=plt.cm.gray)\n",
    "plt.axis('off')"
   ]
  },
  {
   "cell_type": "code",
   "execution_count": null,
   "metadata": {
    "collapsed": true
   },
   "outputs": [],
   "source": [
    "plt.figure(figsize=(24, 10))\n",
    "\n",
    "for i, fn in enumerate(fns):\n",
    "    im = nb.load(fn)\n",
    "    d = np.ma.masked_less(im.get_data(), 1500)\n",
    "    plt.subplot(4, 5, i+1)\n",
    "    plt.imshow(mni[:, :, 46].T, origin='lower', cmap=plt.cm.gray)\n",
    "    plt.imshow(d[:, :, 46].T, origin='lower', cmap=plt.cm.hot, alpha=.95)\n",
    "    plt.axis('off')\n",
    "    \n",
    "plt.subplot(4, 5, i+2)\n",
    "plt.imshow(mni[:, :, 46].T, origin='lower', cmap=plt.cm.gray)\n",
    "plt.axis('off')"
   ]
  },
  {
   "cell_type": "code",
   "execution_count": null,
   "metadata": {
    "collapsed": true
   },
   "outputs": [],
   "source": []
  }
 ],
 "metadata": {
  "kernelspec": {
   "display_name": "Python 2",
   "language": "python",
   "name": "python2"
  },
  "language_info": {
   "codemirror_mode": {
    "name": "ipython",
    "version": 2
   },
   "file_extension": ".py",
   "mimetype": "text/x-python",
   "name": "python",
   "nbconvert_exporter": "python",
   "pygments_lexer": "ipython2",
   "version": "2.7.11"
  }
 },
 "nbformat": 4,
 "nbformat_minor": 0
}
