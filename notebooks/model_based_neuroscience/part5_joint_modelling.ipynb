{
 "cells": [
  {
   "cell_type": "markdown",
   "metadata": {},
   "source": [
    "#Part 5: fit GLM and use as input to HDDM"
   ]
  },
  {
   "cell_type": "markdown",
   "metadata": {},
   "source": [
    "In this last part we will fit a GLM to the fMRI data and use the parameters we estimate to link the neural data to the drift diffusion model"
   ]
  },
  {
   "cell_type": "code",
   "execution_count": 339,
   "metadata": {
    "collapsed": true
   },
   "outputs": [],
   "source": [
    "import numpy as np\n",
    "import matplotlib.pyplot as plt\n",
    "import seaborn as sns\n",
    "import pandas\n",
    "import scipy as sp\n",
    "from scipy import stats\n",
    "%matplotlib inline"
   ]
  },
  {
   "cell_type": "markdown",
   "metadata": {},
   "source": [
    "### Get the signals"
   ]
  },
  {
   "cell_type": "markdown",
   "metadata": {},
   "source": [
    "We use a glob and regular experssion to get the data:"
   ]
  },
  {
   "cell_type": "code",
   "execution_count": 340,
   "metadata": {
    "collapsed": true
   },
   "outputs": [],
   "source": [
    "import glob\n",
    "import re"
   ]
  },
  {
   "cell_type": "code",
   "execution_count": 341,
   "metadata": {
    "collapsed": false
   },
   "outputs": [
    {
     "data": {
      "text/plain": [
       "['/data/extracted_signals/extracted_timeseries/_mask_STR_L_subject_id_0483/_extracter0/pp0483_B1_dtype_mcf_mask_gms_tempfilt_warp_ts.txt',\n",
       " '/data/extracted_signals/extracted_timeseries/_mask_STR_L_subject_id_0483/_extracter1/pp0483_B2_dtype_mcf_mask_gms_tempfilt_warp_ts.txt',\n",
       " '/data/extracted_signals/extracted_timeseries/_mask_STR_R_subject_id_0553/_extracter0/pp0553_B1_dtype_mcf_mask_gms_tempfilt_warp_ts.txt',\n",
       " '/data/extracted_signals/extracted_timeseries/_mask_STR_R_subject_id_0553/_extracter1/pp0553_B2_dtype_mcf_mask_gms_tempfilt_warp_ts.txt',\n",
       " '/data/extracted_signals/extracted_timeseries/_mask_STR_L_subject_id_0197/_extracter0/pp0197_B1_dtype_mcf_mask_gms_tempfilt_warp_ts.txt',\n",
       " '/data/extracted_signals/extracted_timeseries/_mask_STR_L_subject_id_0197/_extracter1/pp0197_B2_dtype_mcf_mask_gms_tempfilt_warp_ts.txt',\n",
       " '/data/extracted_signals/extracted_timeseries/_mask_STR_L_subject_id_0551/_extracter0/pp0551_B1_dtype_mcf_mask_gms_tempfilt_warp_ts.txt',\n",
       " '/data/extracted_signals/extracted_timeseries/_mask_STR_L_subject_id_0551/_extracter1/pp0551_B2_dtype_mcf_mask_gms_tempfilt_warp_ts.txt',\n",
       " '/data/extracted_signals/extracted_timeseries/_mask_STR_R_subject_id_0551/_extracter0/pp0551_B1_dtype_mcf_mask_gms_tempfilt_warp_ts.txt',\n",
       " '/data/extracted_signals/extracted_timeseries/_mask_STR_R_subject_id_0551/_extracter1/pp0551_B2_dtype_mcf_mask_gms_tempfilt_warp_ts.txt']"
      ]
     },
     "execution_count": 341,
     "metadata": {},
     "output_type": "execute_result"
    }
   ],
   "source": [
    "fns = glob.glob('/data/extracted_signals/extracted_timeseries/_mask_*_subject_id_*/_extracter*/*.txt')\n",
    "fns[:10]"
   ]
  },
  {
   "cell_type": "markdown",
   "metadata": {},
   "source": [
    "1) What does the following code do?"
   ]
  },
  {
   "cell_type": "code",
   "execution_count": 342,
   "metadata": {
    "collapsed": false
   },
   "outputs": [],
   "source": [
    "reg = re.compile('.*/_mask_(?P<mask>.*)_subject_id_(?P<subj_idx>.*)/_extracter[0-9]/.*_B(?P<block>[0-9])_dtype_mcf_mask_gms_tempfilt_warp_ts.txt')"
   ]
  },
  {
   "cell_type": "code",
   "execution_count": 343,
   "metadata": {
    "collapsed": false
   },
   "outputs": [
    {
     "name": "stdout",
     "output_type": "stream",
     "text": [
      "/data/extracted_signals/extracted_timeseries/_mask_STR_L_subject_id_0483/_extracter0/pp0483_B1_dtype_mcf_mask_gms_tempfilt_warp_ts.txt {'subj_idx': '0483', 'mask': 'STR_L', 'block': '1'}\n",
      "/data/extracted_signals/extracted_timeseries/_mask_STR_L_subject_id_0483/_extracter1/pp0483_B2_dtype_mcf_mask_gms_tempfilt_warp_ts.txt {'subj_idx': '0483', 'mask': 'STR_L', 'block': '2'}\n",
      "/data/extracted_signals/extracted_timeseries/_mask_STR_R_subject_id_0553/_extracter0/pp0553_B1_dtype_mcf_mask_gms_tempfilt_warp_ts.txt {'subj_idx': '0553', 'mask': 'STR_R', 'block': '1'}\n",
      "/data/extracted_signals/extracted_timeseries/_mask_STR_R_subject_id_0553/_extracter1/pp0553_B2_dtype_mcf_mask_gms_tempfilt_warp_ts.txt {'subj_idx': '0553', 'mask': 'STR_R', 'block': '2'}\n",
      "/data/extracted_signals/extracted_timeseries/_mask_STR_L_subject_id_0197/_extracter0/pp0197_B1_dtype_mcf_mask_gms_tempfilt_warp_ts.txt {'subj_idx': '0197', 'mask': 'STR_L', 'block': '1'}\n"
     ]
    }
   ],
   "source": [
    "for fn in fns[:5]:\n",
    "    print fn, reg.match(fn).groupdict()"
   ]
  },
  {
   "cell_type": "markdown",
   "metadata": {},
   "source": [
    "Let's put everything in a large dataframe:"
   ]
  },
  {
   "cell_type": "code",
   "execution_count": 344,
   "metadata": {
    "collapsed": false
   },
   "outputs": [],
   "source": [
    "df = []\n",
    "\n",
    "for fn in fns:\n",
    "    d = reg.match(fn).groupdict()\n",
    "    d['signal'] = np.loadtxt(fn)\n",
    "    df.append(d)\n",
    "    \n",
    "df = pandas.DataFrame(df)\n",
    "df['block'] = df['block'].astype(int)\n",
    "df['subj_idx'] = df['subj_idx'].astype(int)"
   ]
  },
  {
   "cell_type": "markdown",
   "metadata": {},
   "source": [
    "2) Have a look at the head of the dataframe, what do you see? Can you plot the signal for a few subjects?"
   ]
  },
  {
   "cell_type": "code",
   "execution_count": null,
   "metadata": {
    "collapsed": true
   },
   "outputs": [],
   "source": []
  },
  {
   "cell_type": "markdown",
   "metadata": {},
   "source": [
    "Now we are gonna use nipy to set up a design matrix for the GLM"
   ]
  },
  {
   "cell_type": "code",
   "execution_count": 348,
   "metadata": {
    "collapsed": true
   },
   "outputs": [],
   "source": [
    "from nipy.modalities.fmri import design_matrix, experimental_paradigm\n"
   ]
  },
  {
   "cell_type": "markdown",
   "metadata": {},
   "source": [
    "Let's start with an example:"
   ]
  },
  {
   "cell_type": "code",
   "execution_count": 349,
   "metadata": {
    "collapsed": false
   },
   "outputs": [],
   "source": [
    "conditions = ['condition1'] * 3 + ['condition2'] * 3\n",
    "onsets = [5, 25 , 35, 15, 30, 40]\n",
    "\n",
    "\n",
    "tr = 2.0\n",
    "frametimes = np.arange(0, 50, 2)\n",
    "hrf_model = 'Canonical'\n",
    "\n",
    "paradigm =  experimental_paradigm.BlockParadigm(con_id=conditions, \n",
    "                                                onset=onsets,\n",
    "                                                duration=[[1.]] * len(conditions))\n",
    "\n",
    "\n",
    "X, names= design_matrix.dmtx_light(frametimes, paradigm, hrf_model=hrf_model, )"
   ]
  },
  {
   "cell_type": "markdown",
   "metadata": {},
   "source": [
    "1) Plot matrix X. What do you see? What are the 'conditions' and 'onsets'?"
   ]
  },
  {
   "cell_type": "code",
   "execution_count": null,
   "metadata": {
    "collapsed": true
   },
   "outputs": [],
   "source": []
  },
  {
   "cell_type": "markdown",
   "metadata": {},
   "source": [
    "Now let's make the GLM for an actual subject"
   ]
  },
  {
   "cell_type": "code",
   "execution_count": 351,
   "metadata": {
    "collapsed": false
   },
   "outputs": [],
   "source": [
    "behavior = pandas.load('/data/behavior-v2.pandas')"
   ]
  },
  {
   "cell_type": "markdown",
   "metadata": {},
   "source": [
    "Let's go for subject 548, block 1, left Striatum"
   ]
  },
  {
   "cell_type": "code",
   "execution_count": 352,
   "metadata": {
    "collapsed": false
   },
   "outputs": [],
   "source": [
    "subj_idx = 548\n",
    "block = 1\n",
    "mask = 'STR_L'\n",
    "\n",
    "# Select only onsets of subject subj_idx and block block\n",
    "d = behavior[(behavior.subj_idx == subj_idx) & (behavior.block == block)]\n",
    "\n",
    "# Make a list of conditions\n",
    "conditions = ['accuracy'] * (d.cond == '1').sum() +  ['speed'] * (d.cond == '2').sum()\n",
    "\n",
    "# Make a list of onsets\n",
    "onsets = d[d.cond == '1'].cue_onset.tolist() + d[d.cond == '2'].cue_onset.tolist()\n",
    "\n",
    "\n",
    "# The number of volumes is 355, the time is 355*2 = 710, in steps of TR seconds (2)\n",
    "tr = 2.0\n",
    "frametimes = np.arange(0, 710, tr)\n",
    "hrf_model = 'Canonical'\n",
    "\n",
    "# Set up paradigm\n",
    "paradigm =  experimental_paradigm.BlockParadigm(con_id=conditions, \n",
    "                                                onset=onsets,\n",
    "                                                duration=[[2.]] * len(conditions))\n",
    "\n",
    "# Set up GLM\n",
    "X, names= design_matrix.dmtx_light(frametimes, paradigm, hrf_model=hrf_model, drift_model='blank')\n",
    "X = pandas.DataFrame(X, columns=names)"
   ]
  },
  {
   "cell_type": "markdown",
   "metadata": {},
   "source": [
    "2) Plot X again, how does it look?"
   ]
  },
  {
   "cell_type": "code",
   "execution_count": null,
   "metadata": {
    "collapsed": true
   },
   "outputs": [],
   "source": []
  },
  {
   "cell_type": "markdown",
   "metadata": {},
   "source": [
    "Now we can fit the GLM using ordinary least squares (OLS)"
   ]
  },
  {
   "cell_type": "code",
   "execution_count": 353,
   "metadata": {
    "collapsed": false
   },
   "outputs": [
    {
     "data": {
      "text/html": [
       "<table class=\"simpletable\">\n",
       "<caption>OLS Regression Results</caption>\n",
       "<tr>\n",
       "  <th>Dep. Variable:</th>            <td>y</td>        <th>  R-squared:         </th> <td>   0.132</td>\n",
       "</tr>\n",
       "<tr>\n",
       "  <th>Model:</th>                   <td>OLS</td>       <th>  Adj. R-squared:    </th> <td>   0.127</td>\n",
       "</tr>\n",
       "<tr>\n",
       "  <th>Method:</th>             <td>Least Squares</td>  <th>  F-statistic:       </th> <td>   26.75</td>\n",
       "</tr>\n",
       "<tr>\n",
       "  <th>Date:</th>             <td>Tue, 02 Jun 2015</td> <th>  Prob (F-statistic):</th> <td>1.53e-11</td>\n",
       "</tr>\n",
       "<tr>\n",
       "  <th>Time:</th>                 <td>09:39:17</td>     <th>  Log-Likelihood:    </th> <td> -1623.5</td>\n",
       "</tr>\n",
       "<tr>\n",
       "  <th>No. Observations:</th>      <td>   355</td>      <th>  AIC:               </th> <td>   3253.</td>\n",
       "</tr>\n",
       "<tr>\n",
       "  <th>Df Residuals:</th>          <td>   352</td>      <th>  BIC:               </th> <td>   3265.</td>\n",
       "</tr>\n",
       "<tr>\n",
       "  <th>Df Model:</th>              <td>     2</td>      <th>                     </th>     <td> </td>   \n",
       "</tr>\n",
       "<tr>\n",
       "  <th>Covariance Type:</th>      <td>nonrobust</td>    <th>                     </th>     <td> </td>   \n",
       "</tr>\n",
       "</table>\n",
       "<table class=\"simpletable\">\n",
       "<tr>\n",
       "      <td></td>        <th>coef</th>     <th>std err</th>      <th>t</th>      <th>P>|t|</th> <th>[95.0% Conf. Int.]</th> \n",
       "</tr>\n",
       "<tr>\n",
       "  <th>accuracy</th> <td>   19.9825</td> <td>    8.632</td> <td>    2.315</td> <td> 0.021</td> <td>    3.006    36.959</td>\n",
       "</tr>\n",
       "<tr>\n",
       "  <th>speed</th>    <td>   61.2510</td> <td>    8.432</td> <td>    7.264</td> <td> 0.000</td> <td>   44.668    77.834</td>\n",
       "</tr>\n",
       "<tr>\n",
       "  <th>constant</th> <td>   -4.5229</td> <td>    1.445</td> <td>   -3.129</td> <td> 0.002</td> <td>   -7.365    -1.680</td>\n",
       "</tr>\n",
       "</table>\n",
       "<table class=\"simpletable\">\n",
       "<tr>\n",
       "  <th>Omnibus:</th>       <td> 1.475</td> <th>  Durbin-Watson:     </th> <td>   1.088</td>\n",
       "</tr>\n",
       "<tr>\n",
       "  <th>Prob(Omnibus):</th> <td> 0.478</td> <th>  Jarque-Bera (JB):  </th> <td>   1.225</td>\n",
       "</tr>\n",
       "<tr>\n",
       "  <th>Skew:</th>          <td> 0.119</td> <th>  Prob(JB):          </th> <td>   0.542</td>\n",
       "</tr>\n",
       "<tr>\n",
       "  <th>Kurtosis:</th>      <td> 3.162</td> <th>  Cond. No.          </th> <td>    7.54</td>\n",
       "</tr>\n",
       "</table>"
      ],
      "text/plain": [
       "<class 'statsmodels.iolib.summary.Summary'>\n",
       "\"\"\"\n",
       "                            OLS Regression Results                            \n",
       "==============================================================================\n",
       "Dep. Variable:                      y   R-squared:                       0.132\n",
       "Model:                            OLS   Adj. R-squared:                  0.127\n",
       "Method:                 Least Squares   F-statistic:                     26.75\n",
       "Date:                Tue, 02 Jun 2015   Prob (F-statistic):           1.53e-11\n",
       "Time:                        09:39:17   Log-Likelihood:                -1623.5\n",
       "No. Observations:                 355   AIC:                             3253.\n",
       "Df Residuals:                     352   BIC:                             3265.\n",
       "Df Model:                           2                                         \n",
       "Covariance Type:            nonrobust                                         \n",
       "==============================================================================\n",
       "                 coef    std err          t      P>|t|      [95.0% Conf. Int.]\n",
       "------------------------------------------------------------------------------\n",
       "accuracy      19.9825      8.632      2.315      0.021         3.006    36.959\n",
       "speed         61.2510      8.432      7.264      0.000        44.668    77.834\n",
       "constant      -4.5229      1.445     -3.129      0.002        -7.365    -1.680\n",
       "==============================================================================\n",
       "Omnibus:                        1.475   Durbin-Watson:                   1.088\n",
       "Prob(Omnibus):                  0.478   Jarque-Bera (JB):                1.225\n",
       "Skew:                           0.119   Prob(JB):                        0.542\n",
       "Kurtosis:                       3.162   Cond. No.                         7.54\n",
       "==============================================================================\n",
       "\n",
       "Warnings:\n",
       "[1] Standard Errors assume that the covariance matrix of the errors is correctly specified.\n",
       "\"\"\""
      ]
     },
     "execution_count": 353,
     "metadata": {},
     "output_type": "execute_result"
    }
   ],
   "source": [
    "import statsmodels.api as sm\n",
    "Y = df[(df.subj_idx == subj_idx) & (df.block == block) & (df['mask'] == mask)].iloc[0].signal\n",
    "model = sm.OLS(Y, X)\n",
    "r = model.fit()\n",
    "r.summary()"
   ]
  },
  {
   "cell_type": "markdown",
   "metadata": {},
   "source": [
    "3) Interpret these resuts. What do you see?"
   ]
  },
  {
   "cell_type": "markdown",
   "metadata": {},
   "source": [
    "4) Now write a [function](http://www.tutorialspoint.com/python/python_functions.htm) that, given a subject_id and a block fits the glm and returns a dataframe with parameter estimates (hint: most of this is just copying the code above)."
   ]
  },
  {
   "cell_type": "code",
   "execution_count": 355,
   "metadata": {
    "collapsed": true
   },
   "outputs": [],
   "source": [
    "def fit_glm(subj_idx, block, mask):\n",
    "    \n",
    "    ....\n",
    "    \n",
    "    r = model.fit()\n",
    "    \n",
    "    return r.params\n",
    "    "
   ]
  },
  {
   "cell_type": "code",
   "execution_count": 356,
   "metadata": {
    "collapsed": false
   },
   "outputs": [
    {
     "data": {
      "text/plain": [
       "accuracy     9.676504\n",
       "speed       45.783643\n",
       "constant    -3.099225\n",
       "dtype: float64"
      ]
     },
     "execution_count": 356,
     "metadata": {},
     "output_type": "execute_result"
    }
   ],
   "source": [
    "\n",
    "fit_glm(548, 1, 'STR_R')"
   ]
  },
  {
   "cell_type": "markdown",
   "metadata": {},
   "source": [
    "Now we can loop through the signals and fit the GLM, storing it in a dataframe"
   ]
  },
  {
   "cell_type": "code",
   "execution_count": 357,
   "metadata": {
    "collapsed": false
   },
   "outputs": [],
   "source": [
    "results = []\n",
    "\n",
    "for fn in fns:\n",
    "    subj_idx = int(reg.match(fn).groupdict()['subj_idx'])\n",
    "    block = int(reg.match(fn).groupdict()['block'])\n",
    "    for mask in ['STR_L', 'STR_R']:\n",
    "        r = fit_glm(subj_idx, block, mask)\n",
    "        \n",
    "        for condition in ['accuracy', 'speed']:\n",
    "            d = {}\n",
    "            d['subj_idx'] = subj_idx\n",
    "            d['mask'] = mask\n",
    "            d['block'] = block\n",
    "            d['condition'] = condition\n",
    "            d['value'] = r[condition]\n",
    "            results.append(d)\n",
    "\n",
    "results = pandas.DataFrame(results)"
   ]
  },
  {
   "cell_type": "markdown",
   "metadata": {},
   "source": [
    "5) Have a look at the dataframe 'results' and use factorplot to summarize it"
   ]
  },
  {
   "cell_type": "code",
   "execution_count": null,
   "metadata": {
    "collapsed": true
   },
   "outputs": [],
   "source": []
  },
  {
   "cell_type": "markdown",
   "metadata": {},
   "source": [
    "6) Interpret the results"
   ]
  },
  {
   "cell_type": "markdown",
   "metadata": {},
   "source": [
    "Now we can use pivot_table to get a difference-value for every subjects"
   ]
  },
  {
   "cell_type": "code",
   "execution_count": null,
   "metadata": {
    "collapsed": true
   },
   "outputs": [],
   "source": [
    "neural_results = results.pivot_table(values='value', columns=['condition', 'mask'], index=['subj_idx'])\n",
    "neural_results"
   ]
  },
  {
   "cell_type": "markdown",
   "metadata": {},
   "source": [
    "7) What happened here?"
   ]
  },
  {
   "cell_type": "markdown",
   "metadata": {},
   "source": [
    "Now let's load the hddm parameters"
   ]
  },
  {
   "cell_type": "code",
   "execution_count": 362,
   "metadata": {
    "collapsed": false
   },
   "outputs": [],
   "source": [
    "hddm_pars = pandas.load('/data/results_hddm.pandas')\n",
    "hddm_pars.head(15)"
   ]
  },
  {
   "cell_type": "markdown",
   "metadata": {},
   "source": [
    "The following code is a bit hacky, a way to get the threshold-estimates out"
   ]
  },
  {
   "cell_type": "code",
   "execution_count": 364,
   "metadata": {
    "collapsed": false
   },
   "outputs": [],
   "source": [
    "import re\n",
    "reg = re.compile('a_subj\\((?P<condition>[0-9])\\)\\.(?P<subj_idx>[0-9]{3})')\n",
    "\n",
    "results = []\n",
    "\n",
    "for i, row in hddm_pars.iterrows():\n",
    "    if row.parameter[:6] == 'a_subj':\n",
    "        d = reg.match(row.parameter).groupdict()\n",
    "        d['value'] = row.value\n",
    "        results.append(d)\n",
    "        \n",
    "threshold_pars = pandas.DataFrame(results)\n",
    "threshold_pars['condition'] = threshold_pars.condition.map({'1':'accuracy', '2':'speed'})\n",
    "threshold_pars['subj_idx'] = threshold_pars['subj_idx'].astype(int) "
   ]
  },
  {
   "cell_type": "code",
   "execution_count": null,
   "metadata": {
    "collapsed": true
   },
   "outputs": [],
   "source": [
    "behavioral_results = threshold_pars.pivot_table(values='value', columns='condition', index=['subj_idx'])\n",
    "behavioral_results"
   ]
  },
  {
   "cell_type": "markdown",
   "metadata": {},
   "source": [
    "Now we merge the behavioral and neural results"
   ]
  },
  {
   "cell_type": "code",
   "execution_count": null,
   "metadata": {
    "collapsed": true
   },
   "outputs": [],
   "source": [
    "behavioral_results = threshold_pars.pivot_table(values='value', columns='condition', index=['subj_idx'])\n",
    "behavioral_results"
   ]
  },
  {
   "cell_type": "markdown",
   "metadata": {},
   "source": [
    "8) What does the table above contain?"
   ]
  },
  {
   "cell_type": "markdown",
   "metadata": {},
   "source": [
    "9) Correlate the difference in thresholds with the difference in fMRI signals using lmplot for left and right striatum"
   ]
  },
  {
   "cell_type": "code",
   "execution_count": null,
   "metadata": {
    "collapsed": true
   },
   "outputs": [],
   "source": []
  }
 ],
 "metadata": {
  "kernelspec": {
   "display_name": "Python 2",
   "language": "python",
   "name": "python2"
  },
  "language_info": {
   "codemirror_mode": {
    "name": "ipython",
    "version": 2
   },
   "file_extension": ".py",
   "mimetype": "text/x-python",
   "name": "python",
   "nbconvert_exporter": "python",
   "pygments_lexer": "ipython2",
   "version": "2.7.8"
  }
 },
 "nbformat": 4,
 "nbformat_minor": 0
}
